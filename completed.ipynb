{
 "cells": [
  {
   "cell_type": "code",
   "execution_count": 83,
   "id": "b2b32f20",
   "metadata": {},
   "outputs": [
    {
     "name": "stdout",
     "output_type": "stream",
     "text": [
      "    Unnamed: 0  Unnamed: 1  Unnamed: 2  \\\n",
      "0          NaN         NaN         NaN   \n",
      "1          NaN         NaN         NaN   \n",
      "2          NaN         NaN         NaN   \n",
      "3          NaN         NaN         NaN   \n",
      "4          NaN         NaN         NaN   \n",
      "5          NaN         NaN         NaN   \n",
      "6          NaN         NaN         NaN   \n",
      "7          NaN         NaN         NaN   \n",
      "8          NaN         NaN         NaN   \n",
      "9          NaN         NaN         NaN   \n",
      "10         NaN         NaN         NaN   \n",
      "11         NaN         NaN         NaN   \n",
      "12         NaN         NaN         NaN   \n",
      "13         NaN         NaN         NaN   \n",
      "14         NaN         NaN         NaN   \n",
      "15         NaN         NaN         NaN   \n",
      "16         NaN         NaN         NaN   \n",
      "17         NaN         NaN         NaN   \n",
      "18         NaN         NaN         NaN   \n",
      "19         NaN         NaN         NaN   \n",
      "20         NaN         NaN         NaN   \n",
      "21         NaN         NaN         NaN   \n",
      "22         NaN         NaN         NaN   \n",
      "23         NaN         NaN         NaN   \n",
      "\n",
      "    About the Activity We conducted an activity within DeepThought across different teams.  All the members watched a video, identified insights from the same. Then they selected some statements and tried to giver possible reasons Each reason was once again evaluated by the process of rigor. The two input sheets were created from the data of activity. We made a sample leaderboard for the same (in the output sheets). S No  \\\n",
      "0                                                 1.0                                                                                                                                                                                                                                                                                                                                                                                      \n",
      "1                                                 2.0                                                                                                                                                                                                                                                                                                                                                                                      \n",
      "2                                                 3.0                                                                                                                                                                                                                                                                                                                                                                                      \n",
      "3                                                 4.0                                                                                                                                                                                                                                                                                                                                                                                      \n",
      "4                                                 5.0                                                                                                                                                                                                                                                                                                                                                                                      \n",
      "5                                                 6.0                                                                                                                                                                                                                                                                                                                                                                                      \n",
      "6                                                 7.0                                                                                                                                                                                                                                                                                                                                                                                      \n",
      "7                                                 8.0                                                                                                                                                                                                                                                                                                                                                                                      \n",
      "8                                                 9.0                                                                                                                                                                                                                                                                                                                                                                                      \n",
      "9                                                10.0                                                                                                                                                                                                                                                                                                                                                                                      \n",
      "10                                               11.0                                                                                                                                                                                                                                                                                                                                                                                      \n",
      "11                                               12.0                                                                                                                                                                                                                                                                                                                                                                                      \n",
      "12                                               13.0                                                                                                                                                                                                                                                                                                                                                                                      \n",
      "13                                               14.0                                                                                                                                                                                                                                                                                                                                                                                      \n",
      "14                                               15.0                                                                                                                                                                                                                                                                                                                                                                                      \n",
      "15                                               16.0                                                                                                                                                                                                                                                                                                                                                                                      \n",
      "16                                               17.0                                                                                                                                                                                                                                                                                                                                                                                      \n",
      "17                                               18.0                                                                                                                                                                                                                                                                                                                                                                                      \n",
      "18                                               19.0                                                                                                                                                                                                                                                                                                                                                                                      \n",
      "19                                               20.0                                                                                                                                                                                                                                                                                                                                                                                      \n",
      "20                                               21.0                                                                                                                                                                                                                                                                                                                                                                                      \n",
      "21                                                NaN                                                                                                                                                                                                                                                                                                                                                                                      \n",
      "22                                                NaN                                                                                                                                                                                                                                                                                                                                                                                      \n",
      "23                                                NaN                                                                                                                                                                                                                                                                                                                                                                                      \n",
      "\n",
      "                Name            Team Name  User ID  Unnamed: 7  \n",
      "0          Soumita M  Winning Culture Lab    280.0         NaN  \n",
      "1         Subhangi 0  Winning Culture Lab     75.0         NaN  \n",
      "2        Nitin Shane  Winning Culture Lab   1124.0         NaN  \n",
      "3             Merwin               Mentor    295.0         NaN  \n",
      "4      fardinkamal62    Human Capital Lab    263.0         NaN  \n",
      "5      __riddhi_213_    Human Capital Lab    504.0         NaN  \n",
      "6        Rohit Dutta               Mentor    266.0         NaN  \n",
      "7           imshawan             Tech Lab     71.0         NaN  \n",
      "8       Anuraj_Saini        BrandTech Lab    342.0         NaN  \n",
      "9            sharath  Student Unicorn Lab   3367.0         NaN  \n",
      "10           Ronak 0             Tech Lab    302.0         NaN  \n",
      "11     Amrit Malviya        Brandtech Lab    336.0         NaN  \n",
      "12           Saurabh               Mentor    271.0         NaN  \n",
      "13       darshimalde  Student Unicorn Lab   3169.0         NaN  \n",
      "14            Shagun             Tech Lab    100.0         NaN  \n",
      "15            Ayisha  Student Unicorn Lab   3406.0         NaN  \n",
      "16            Palash            Growpital     69.0         NaN  \n",
      "17             raman            Growpital    539.0         NaN  \n",
      "18           Nishant            Growpital    299.0         NaN  \n",
      "19            Vatsal              Kringle   3408.0         NaN  \n",
      "20          devmenkr              Kringle    360.0         NaN  \n",
      "21               NaN          Sup Eco App      NaN         NaN  \n",
      "22     Gautam Pandey                  NaN      NaN         NaN  \n",
      "23  Harshali Pophali                  NaN      NaN         NaN  \n",
      "    Unnamed: 0  Unnamed: 1  \\\n",
      "0          NaN         NaN   \n",
      "1          NaN         NaN   \n",
      "2          NaN         NaN   \n",
      "3          NaN         NaN   \n",
      "4          NaN         NaN   \n",
      "5          NaN         NaN   \n",
      "6          NaN         NaN   \n",
      "7          NaN         NaN   \n",
      "8          NaN         NaN   \n",
      "9          NaN         NaN   \n",
      "10         NaN         NaN   \n",
      "11         NaN         NaN   \n",
      "12         NaN         NaN   \n",
      "13         NaN         NaN   \n",
      "14         NaN         NaN   \n",
      "15         NaN         NaN   \n",
      "16         NaN         NaN   \n",
      "17         NaN         NaN   \n",
      "18         NaN         NaN   \n",
      "19         NaN         NaN   \n",
      "20         NaN         NaN   \n",
      "\n",
      "    About the page Here's a list of the same 21 individuals. They took part in an activity where they identified a statements and reasons.  We have taken the data from the activity and presented in the table.   We ask you to count the number of statements and reasons through a python script and replicate the two output leaderboards.  S No  \\\n",
      "0                                                   1                                                                                                                                                                                                                                                                                                  \n",
      "1                                                   2                                                                                                                                                                                                                                                                                                  \n",
      "2                                                   3                                                                                                                                                                                                                                                                                                  \n",
      "3                                                   4                                                                                                                                                                                                                                                                                                  \n",
      "4                                                   5                                                                                                                                                                                                                                                                                                  \n",
      "5                                                   6                                                                                                                                                                                                                                                                                                  \n",
      "6                                                   7                                                                                                                                                                                                                                                                                                  \n",
      "7                                                   8                                                                                                                                                                                                                                                                                                  \n",
      "8                                                   9                                                                                                                                                                                                                                                                                                  \n",
      "9                                                  10                                                                                                                                                                                                                                                                                                  \n",
      "10                                                 11                                                                                                                                                                                                                                                                                                  \n",
      "11                                                 12                                                                                                                                                                                                                                                                                                  \n",
      "12                                                 13                                                                                                                                                                                                                                                                                                  \n",
      "13                                                 14                                                                                                                                                                                                                                                                                                  \n",
      "14                                                 15                                                                                                                                                                                                                                                                                                  \n",
      "15                                                 16                                                                                                                                                                                                                                                                                                  \n",
      "16                                                 17                                                                                                                                                                                                                                                                                                  \n",
      "17                                                 18                                                                                                                                                                                                                                                                                                  \n",
      "18                                                 19                                                                                                                                                                                                                                                                                                  \n",
      "19                                                 20                                                                                                                                                                                                                                                                                                  \n",
      "20                                                 21                                                                                                                                                                                                                                                                                                  \n",
      "\n",
      "             name   uid  total_statements  total_reasons  Unnamed: 7  \\\n",
      "0       Soumita M   280                13             21         NaN   \n",
      "1      Subhangi 0    75                13             16         NaN   \n",
      "2     Nitin Shane  1124                12             11         NaN   \n",
      "3          Merwin   295                13             12         NaN   \n",
      "4   fardinkamal62   263                 2              2         NaN   \n",
      "5   __riddhi_213_   504                 2              7         NaN   \n",
      "6     Rohit Dutta   266                 3              3         NaN   \n",
      "7        imshawan    71                 9              9         NaN   \n",
      "8    Anuraj_Saini   342                 7              7         NaN   \n",
      "9         sharath  3367                 8              8         NaN   \n",
      "10        Ronak 0   302                16             19         NaN   \n",
      "11  Amrit Malviya   336                 2              4         NaN   \n",
      "12        Saurabh   271                 6              8         NaN   \n",
      "13    darshimalde  3169                 3              3         NaN   \n",
      "14         Shagun   100                 2              2         NaN   \n",
      "15         Ayisha  3406                11              8         NaN   \n",
      "16         Palash    69                 6              7         NaN   \n",
      "17          raman   539                 5              5         NaN   \n",
      "18        Nishant   299                 4              5         NaN   \n",
      "19         Vatsal  3408                 2              2         NaN   \n",
      "20       devmenkr   360                 7              7         NaN   \n",
      "\n",
      "                                          Statement 1  \\\n",
      "0   managers' job based on where company's lifecycle.   \n",
      "1   story that tells about the company, you need t...   \n",
      "2                                 num --- Engineering   \n",
      "3                                 The earth is round.   \n",
      "4   I've always loved the Victorian period in Engl...   \n",
      "5                                       Different pov   \n",
      "6   At least one person working with DT is a produ...   \n",
      "7   Behind the scenes and manage different and thi...   \n",
      "8                            look for a better option   \n",
      "9            I have a dream that is not in the script   \n",
      "10  being quick to start and late to finish can ac...   \n",
      "11                              first mover advantage   \n",
      "12  I just need to upgratde my - who look for bett...   \n",
      "13  not accepting default and taking initiative to...   \n",
      "14                    originals are late to the party   \n",
      "15                     Originals also have self doubt   \n",
      "16                       Idea doubt is invigourating.   \n",
      "17  to improve on someone else's ideas is easy the...   \n",
      "18  it's always better to improve on someone's ide...   \n",
      "19  Procrastination does not always help in curiosity   \n",
      "20  Bad ideas teach us what not to do Which is als...   \n",
      "\n",
      "   Here, the statements identified by people are listed. Some of the entries might be duplicated, but we are not checking for that right now. Statement 2  \\\n",
      "0   managers' job based on where company's lifecycle.                                                                                                       \n",
      "1       good valuation - should have number and story                                                                                                       \n",
      "2                     numbers are good for evaluating                                                                                                       \n",
      "3         There are eight planets in our Solar System                                                                                                       \n",
      "4   I've always loved the Victorian period in Engl...                                                                                                       \n",
      "5       Difference between discussion and interaction                                                                                                       \n",
      "6     At least one person in DT is a product creator.                                                                                                       \n",
      "7                      They have the courage to do it                                                                                                       \n",
      "8   I have the most creative ideas when I am procr...                                                                                                       \n",
      "9                 original people maybe have bad idea                                                                                                       \n",
      "10  being quick to start and late to finish can ac...                                                                                                       \n",
      "11                 procrastination vs procrastination                                                                                                       \n",
      "12  we can predict your job commitment - there is ...                                                                                                       \n",
      "13     procrastination gives time to think and build.                                                                                                       \n",
      "14  You can't doubt you need a lot of bad ideas to...                                                                                                       \n",
      "15  sometimes because of all the bad ideas, doubts...                                                                                                       \n",
      "16  But they have different methods of handling fear.                                                                                                       \n",
      "17  originals are the ones who fails the most and ...                                                                                                       \n",
      "18  Procrastinators who rush into things might be ...                                                                                                       \n",
      "19  Procrastination does not always help in curiosity                                                                                                       \n",
      "20      More failures can lead to high-quality ideas.                                                                                                       \n",
      "\n",
      "    ...                                       Statement 13  \\\n",
      "0   ...  while counting students timing should be noted...   \n",
      "1   ...           sometimes 100% effort leads to 0% result   \n",
      "2   ...                                                NaN   \n",
      "3   ...           why sharing pareto's law is significant?   \n",
      "4   ...                                                 --   \n",
      "5   ...                                                 --   \n",
      "6   ...                                                 --   \n",
      "7   ...                                                 --   \n",
      "8   ...                                                 --   \n",
      "9   ...                                                 --   \n",
      "10  ...                     originals are non conformists.   \n",
      "11  ...                                                 --   \n",
      "12  ...                                                 --   \n",
      "13  ...                                                 --   \n",
      "14  ...                                                 --   \n",
      "15  ...                                                 --   \n",
      "16  ...                                                 --   \n",
      "17  ...                                                 --   \n",
      "18  ...                                                 --   \n",
      "19  ...                                                 --   \n",
      "20  ...                                                 --   \n",
      "\n",
      "                      Statement 14  \\\n",
      "0                               --   \n",
      "1                               --   \n",
      "2                               --   \n",
      "3                               --   \n",
      "4                               --   \n",
      "5                               --   \n",
      "6                               --   \n",
      "7                               --   \n",
      "8                               --   \n",
      "9                               --   \n",
      "10  originals are non conformists.   \n",
      "11                              --   \n",
      "12                              --   \n",
      "13                              --   \n",
      "14                              --   \n",
      "15                              --   \n",
      "16                              --   \n",
      "17                              --   \n",
      "18                              --   \n",
      "19                              --   \n",
      "20                              --   \n",
      "\n",
      "                                        Statement 15  \\\n",
      "0                                                 --   \n",
      "1                                                 --   \n",
      "2                                                 --   \n",
      "3                                                 --   \n",
      "4                                                 --   \n",
      "5                                                 --   \n",
      "6                                                 --   \n",
      "7                                                 --   \n",
      "8                                                 --   \n",
      "9                                                 --   \n",
      "10  recognising the originals and becoming like them   \n",
      "11                                                --   \n",
      "12                                                --   \n",
      "13                                                --   \n",
      "14                                                --   \n",
      "15                                                --   \n",
      "16                                                --   \n",
      "17                                                --   \n",
      "18                                                --   \n",
      "19                                                --   \n",
      "20                                                --   \n",
      "\n",
      "                                         Statement 16 Unnamed: 24 Unnamed: 25  \\\n",
      "0                                                  --         NaN         NaN   \n",
      "1                                                  --         NaN         NaN   \n",
      "2                                                  --         NaN         NaN   \n",
      "3                                                  --         NaN         NaN   \n",
      "4                                                  --         NaN         NaN   \n",
      "5                                                  --         NaN         NaN   \n",
      "6                                                  --         NaN         NaN   \n",
      "7                                                  --         NaN         NaN   \n",
      "8                                                  --         NaN         NaN   \n",
      "9                                                  --         NaN         NaN   \n",
      "10  adam took nintendo games very seriously. he di...         NaN         NaN   \n",
      "11                                                 --         NaN         NaN   \n",
      "12                                                 --         NaN         NaN   \n",
      "13                                                 --         NaN         NaN   \n",
      "14                                                 --         NaN         NaN   \n",
      "15                                                 --         NaN         NaN   \n",
      "16                                                 --         NaN         NaN   \n",
      "17                                                 --         NaN         NaN   \n",
      "18                                                 --         NaN         NaN   \n",
      "19                                                 --         NaN         NaN   \n",
      "20                                                 --         NaN         NaN   \n",
      "\n",
      "   Unnamed: 26 Unnamed: 27 Unnamed: 28 Unnamed: 29  \n",
      "0          NaN         NaN         NaN         NaN  \n",
      "1          NaN         NaN         NaN         NaN  \n",
      "2          NaN         NaN         NaN         NaN  \n",
      "3          NaN         NaN         NaN         NaN  \n",
      "4          NaN         NaN         NaN         NaN  \n",
      "5          NaN         NaN         NaN         NaN  \n",
      "6          NaN         NaN         NaN         NaN  \n",
      "7          NaN         NaN         NaN         NaN  \n",
      "8          NaN         NaN         NaN         NaN  \n",
      "9          NaN         NaN         NaN         NaN  \n",
      "10         NaN         NaN         NaN         NaN  \n",
      "11         NaN         NaN         NaN         NaN  \n",
      "12         NaN         NaN         NaN         NaN  \n",
      "13         NaN         NaN         NaN         NaN  \n",
      "14         NaN         NaN         NaN         NaN  \n",
      "15         NaN         NaN         NaN         NaN  \n",
      "16         NaN         NaN         NaN         NaN  \n",
      "17         NaN         NaN         NaN         NaN  \n",
      "18         NaN         NaN         NaN         NaN  \n",
      "19         NaN         NaN         NaN         NaN  \n",
      "20         NaN         NaN         NaN         NaN  \n",
      "\n",
      "[21 rows x 30 columns]\n",
      "0         Soumita M\n",
      "1        Subhangi 0\n",
      "2       Nitin Shane\n",
      "3            Merwin\n",
      "4     fardinkamal62\n",
      "5     __riddhi_213_\n",
      "6       Rohit Dutta\n",
      "7          imshawan\n",
      "8      Anuraj_Saini\n",
      "9           sharath\n",
      "10          Ronak 0\n",
      "11    Amrit Malviya\n",
      "12          Saurabh\n",
      "13      darshimalde\n",
      "14           Shagun\n",
      "15           Ayisha\n",
      "16           Palash\n",
      "17            raman\n",
      "18          Nishant\n",
      "19           Vatsal\n",
      "20         devmenkr\n",
      "Name: name, dtype: object\n"
     ]
    }
   ],
   "source": [
    "import pandas as pd\n",
    "gsheetid = r\"1QG1blG-IKPs-GSikyQmyvqoU4s5On_kc\"\n",
    "sheetname = r'User_IDs'\n",
    "sheetname2 = r'Rigorbuilder_RAW'\n",
    "gsheet_url = r\"https://docs.google.com/spreadsheets/d/{}/gviz/tq?tqx=out:csv&sheet={}\".format(gsheetid, sheetname)\n",
    "gsheet_url2 = r\"https://docs.google.com/spreadsheets/d/{}/gviz/tq?tqx=out:csv&sheet={}\".format(gsheetid, sheetname2)\n",
    "df = pd.read_csv(gsheet_url)\n",
    "df2 = pd.read_csv(gsheet_url2)\n",
    "print(df)\n",
    "print(df2)\n",
    "print(df2['name'])"
   ]
  },
  {
   "cell_type": "code",
   "execution_count": 84,
   "id": "286515f5",
   "metadata": {},
   "outputs": [
    {
     "name": "stdout",
     "output_type": "stream",
     "text": [
      "this is required result {'winning culture lab': ['Soumita M', 'Subhangi 0', 'Nitin Shane'], 'mentor': ['Merwin', 'Rohit Dutta', 'Saurabh'], 'human capital lab': ['fardinkamal62', '__riddhi_213_'], 'tech lab': ['imshawan', 'Ronak 0', 'Shagun'], 'brandtech lab': ['Anuraj_Saini', 'Amrit Malviya'], 'student unicorn lab': ['sharath', 'darshimalde', 'Ayisha'], 'growpital': ['Palash', 'raman', 'Nishant'], 'kringle': ['Vatsal', 'devmenkr'], 'sup eco app': [nan], 'nan': ['Gautam Pandey', 'Harshali Pophali']}\n"
     ]
    },
    {
     "name": "stderr",
     "output_type": "stream",
     "text": [
      "<ipython-input-84-84dd188aca9c>:9: SettingWithCopyWarning: \n",
      "A value is trying to be set on a copy of a slice from a DataFrame\n",
      "\n",
      "See the caveats in the documentation: https://pandas.pydata.org/pandas-docs/stable/user_guide/indexing.html#returning-a-view-versus-a-copy\n",
      "  df['Team Name'][i] = str(df['Team Name'][i]).lower()\n"
     ]
    }
   ],
   "source": [
    "df_copy = df\n",
    "df2_copy = df2\n",
    "numbers_of_team_members = []\n",
    "team_names_members = {}\n",
    "team_names_reasons = {}\n",
    "z = -1\n",
    "l = -1\n",
    "for i in range(len(df['Team Name'])):\n",
    "    df['Team Name'][i] = str(df['Team Name'][i]).lower()\n",
    "for i in df['Team Name']:\n",
    "    z+=1\n",
    "    if i not in team_names_members:\n",
    "        team_names_members[i] = [df['Name'][z]]\n",
    "    else:\n",
    "        team_names_members[i] += [df['Name'][z]]\n",
    "print(\"this is required result\", team_names_members)"
   ]
  },
  {
   "cell_type": "code",
   "execution_count": 85,
   "id": "702c3b00",
   "metadata": {},
   "outputs": [
    {
     "name": "stdout",
     "output_type": "stream",
     "text": [
      "[{'winning culture lab': 12.666666666666666}, {'mentor': 7.333333333333333}, {'human capital lab': 2.0}, {'tech lab': 9.0}, {'brandtech lab': 4.5}, {'student unicorn lab': 7.333333333333333}, {'growpital': 5.0}, {'kringle': 4.5}, {'sup eco app': 7.0}, {'nan': 7.0}]\n",
      "[{'winning culture lab': 16.0}, {'mentor': 7.666666666666667}, {'human capital lab': 4.5}, {'tech lab': 10.0}, {'brandtech lab': 5.5}, {'student unicorn lab': 6.333333333333333}, {'growpital': 5.666666666666667}, {'kringle': 4.5}, {'sup eco app': 7.0}, {'nan': 7.0}]\n"
     ]
    }
   ],
   "source": [
    "total_statements = []\n",
    "total_reasons = []\n",
    "division_list = []\n",
    "index = -1\n",
    "for i in team_names_members:\n",
    "    division_var = 0\n",
    "    dict_to_add_state ={i:0}\n",
    "    dict_to_add_res ={i:0}\n",
    "    index+=1\n",
    "    for j in team_names_members[i]:\n",
    "        division_var +=1\n",
    "        h = -1\n",
    "        for k in df2['name']:\n",
    "            h+=1\n",
    "            if (str(j).lower())==(k.lower()):\n",
    "                break\n",
    "        l = -1\n",
    "        for k in df2['total_statements']:\n",
    "            l+=1\n",
    "            if l==h:\n",
    "                dict_to_add_state[i] += k\n",
    "        l = -1\n",
    "        for k in df2['total_reasons']:\n",
    "            l+=1\n",
    "            if l==h:\n",
    "                dict_to_add_res[i] += k\n",
    "    total_statements.append(dict_to_add_state)\n",
    "    total_reasons.append(dict_to_add_res)\n",
    "    division_list.append(division_var)\n",
    "\n",
    "for i in range(len(total_statements)):\n",
    "    total_statements[i][list(total_statements[i].keys())[0]]= list(total_statements[i].values())[0]/division_list[i]\n",
    "    total_reasons[i][list(total_reasons[i].keys())[0]]= list(total_reasons[i].values())[0]/division_list[i]\n",
    "print(total_statements)\n",
    "print(total_reasons)"
   ]
  },
  {
   "cell_type": "code",
   "execution_count": 86,
   "id": "12709991",
   "metadata": {},
   "outputs": [
    {
     "name": "stdout",
     "output_type": "stream",
     "text": [
      "[34, 29, 23, 25, 4, 9, 6, 18, 14, 16, 35, 6, 14, 6, 4, 19, 13, 10, 9, 4, 14]\n"
     ]
    }
   ],
   "source": [
    "details = []\n",
    "sums = []\n",
    "for i in df2['total_statements']:\n",
    "    sums.append(i)\n",
    "i = -1\n",
    "for j in df2['total_reasons']:\n",
    "    i+=1\n",
    "    sums[i] += j\n",
    "print((sums))\n"
   ]
  },
  {
   "cell_type": "code",
   "execution_count": 87,
   "id": "c1d44ae7",
   "metadata": {},
   "outputs": [],
   "source": [
    "listoutput1 = [['Team Rank','Thinking Teams Leaderboard\t','Average Statements','Average Reasons']]"
   ]
  },
  {
   "cell_type": "code",
   "execution_count": 88,
   "id": "184d9f40",
   "metadata": {},
   "outputs": [
    {
     "name": "stdout",
     "output_type": "stream",
     "text": [
      "{'winning culture lab': 28.666666666666664, 'mentor': 15.0, 'human capital lab': 6.5, 'tech lab': 19.0, 'brandtech lab': 10.0, 'student unicorn lab': 13.666666666666666, 'growpital': 10.666666666666668, 'kringle': 9.0, 'sup eco app': 14.0, 'nan': 14.0}\n",
      "(0, 'winning culture lab')\n",
      "(1, 'tech lab')\n",
      "(2, 'mentor')\n",
      "(3, 'sup eco app')\n",
      "(4, 'nan')\n",
      "(5, 'student unicorn lab')\n",
      "(6, 'growpital')\n",
      "(7, 'brandtech lab')\n",
      "(8, 'kringle')\n",
      "(9, 'human capital lab')\n"
     ]
    }
   ],
   "source": [
    "final = {}\n",
    "h = -1\n",
    "for i in total_statements:\n",
    "    h+=1\n",
    "    final[list(i.keys())[0]] = list(i.values())[0] + total_reasons[h][list(i.keys())[0]]\n",
    "print(final)\n",
    "\n",
    "\n",
    "final_vals = sorted(final.items(), key=lambda x:x[1], reverse=True)\n",
    "final = dict(final_vals)\n",
    "for j in enumerate(final):\n",
    "    print(j)"
   ]
  },
  {
   "cell_type": "code",
   "execution_count": 89,
   "id": "608bfb4d",
   "metadata": {},
   "outputs": [
    {
     "name": "stdout",
     "output_type": "stream",
     "text": [
      "{'winning culture lab': 28.666666666666664, 'tech lab': 19.0, 'mentor': 15.0, 'sup eco app': 14.0, 'nan': 14.0, 'student unicorn lab': 13.666666666666666, 'growpital': 10.666666666666668, 'brandtech lab': 10.0, 'kringle': 9.0, 'human capital lab': 6.5}\n",
      "['winning culture lab']\n",
      "['winning culture lab', 'tech lab']\n",
      "['winning culture lab', 'tech lab', 'mentor']\n",
      "['winning culture lab', 'tech lab', 'mentor', 'sup eco app']\n",
      "['winning culture lab', 'tech lab', 'mentor', 'sup eco app', 'nan']\n",
      "['winning culture lab', 'tech lab', 'mentor', 'sup eco app', 'nan', 'student unicorn lab']\n",
      "['winning culture lab', 'tech lab', 'mentor', 'sup eco app', 'nan', 'student unicorn lab', 'growpital']\n",
      "['winning culture lab', 'tech lab', 'mentor', 'sup eco app', 'nan', 'student unicorn lab', 'growpital', 'brandtech lab']\n",
      "['winning culture lab', 'tech lab', 'mentor', 'sup eco app', 'nan', 'student unicorn lab', 'growpital', 'brandtech lab', 'kringle']\n",
      "['winning culture lab', 'tech lab', 'mentor', 'sup eco app', 'nan', 'student unicorn lab', 'growpital', 'brandtech lab', 'kringle', 'human capital lab']\n"
     ]
    }
   ],
   "source": [
    "done = []\n",
    "h = 0\n",
    "print(final)\n",
    "for i in final:\n",
    "    h+=1\n",
    "    z = -1\n",
    "    for k in total_statements:\n",
    "        z+=1\n",
    "        if list(k.keys())[0] == i:\n",
    "            break\n",
    "            break\n",
    "    g = -1\n",
    "    for l in total_reasons:\n",
    "        g+=1\n",
    "        if list(l.keys())[0] == i:\n",
    "            break\n",
    "            break\n",
    "    list_to_append = [h,i, total_statements[z][i], total_reasons[g][i]]\n",
    "    if i not in done:\n",
    "        listoutput1.append(list_to_append)\n",
    "        done.append(i)\n",
    "        print(done)\n"
   ]
  },
  {
   "cell_type": "code",
   "execution_count": 90,
   "id": "38c89435",
   "metadata": {},
   "outputs": [],
   "source": [
    "newDataFrame = pd.DataFrame(listoutput1)"
   ]
  },
  {
   "cell_type": "code",
   "execution_count": 91,
   "id": "80ec47dc",
   "metadata": {},
   "outputs": [
    {
     "name": "stdout",
     "output_type": "stream",
     "text": [
      "            0                             1                   2  \\\n",
      "0   Team Rank  Thinking Teams Leaderboard\\t  Average Statements   \n",
      "1           1           winning culture lab           12.666667   \n",
      "2           2                      tech lab                 9.0   \n",
      "3           3                        mentor            7.333333   \n",
      "4           4                   sup eco app                 7.0   \n",
      "5           5                           nan                 7.0   \n",
      "6           6           student unicorn lab            7.333333   \n",
      "7           7                     growpital                 5.0   \n",
      "8           8                 brandtech lab                 4.5   \n",
      "9           9                       kringle                 4.5   \n",
      "10         10             human capital lab                 2.0   \n",
      "\n",
      "                  3  \n",
      "0   Average Reasons  \n",
      "1              16.0  \n",
      "2              10.0  \n",
      "3          7.666667  \n",
      "4               7.0  \n",
      "5               7.0  \n",
      "6          6.333333  \n",
      "7          5.666667  \n",
      "8               5.5  \n",
      "9               4.5  \n",
      "10              4.5  \n"
     ]
    }
   ],
   "source": [
    "print(newDataFrame)"
   ]
  },
  {
   "cell_type": "code",
   "execution_count": 146,
   "id": "57c22b69",
   "metadata": {},
   "outputs": [],
   "source": [
    "listoutput2 = [['Name','Rank','UID','No. of statements','No. of reasons']]"
   ]
  },
  {
   "cell_type": "code",
   "execution_count": 147,
   "id": "e920a613",
   "metadata": {},
   "outputs": [],
   "source": [
    "UID_lst = []\n",
    "sum_of_statement_and_reason = []\n",
    "j = -1\n",
    "uid = []\n",
    "\n",
    "for i in df2['total_statements']:\n",
    "    j+=1\n",
    "    sum_of_statement_and_reason.append([(i + df2['total_reasons'][j]),df2['name'][j],(df2['uid'][j]), i, df2['total_reasons'][j]])\n",
    "    "
   ]
  },
  {
   "cell_type": "code",
   "execution_count": 148,
   "id": "2c09d15d",
   "metadata": {},
   "outputs": [
    {
     "name": "stdout",
     "output_type": "stream",
     "text": [
      "[[34, 'Soumita M', 280, 13, 21], [29, 'Subhangi 0', 75, 13, 16], [23, 'Nitin Shane', 1124, 12, 11], [25, 'Merwin', 295, 13, 12], [4, 'fardinkamal62', 263, 2, 2], [9, '__riddhi_213_', 504, 2, 7], [6, 'Rohit Dutta', 266, 3, 3], [18, 'imshawan', 71, 9, 9], [14, 'Anuraj_Saini', 342, 7, 7], [16, 'sharath', 3367, 8, 8], [35, 'Ronak 0', 302, 16, 19], [6, 'Amrit Malviya', 336, 2, 4], [14, 'Saurabh', 271, 6, 8], [6, 'darshimalde', 3169, 3, 3], [4, 'Shagun', 100, 2, 2], [19, 'Ayisha', 3406, 11, 8], [13, 'Palash', 69, 6, 7], [10, 'raman', 539, 5, 5], [9, 'Nishant', 299, 4, 5], [4, 'Vatsal', 3408, 2, 2], [14, 'devmenkr', 360, 7, 7]]\n"
     ]
    }
   ],
   "source": [
    "print(sum_of_statement_and_reason)\n"
   ]
  },
  {
   "cell_type": "code",
   "execution_count": 149,
   "id": "eb32bd28",
   "metadata": {},
   "outputs": [],
   "source": [
    "sum_of_statement_and_reason=sorted(sum_of_statement_and_reason, reverse = True)"
   ]
  },
  {
   "cell_type": "code",
   "execution_count": 150,
   "id": "c519b8c9",
   "metadata": {},
   "outputs": [
    {
     "name": "stdout",
     "output_type": "stream",
     "text": [
      "[[35, 'Ronak 0', 302, 16, 19], [34, 'Soumita M', 280, 13, 21], [29, 'Subhangi 0', 75, 13, 16], [25, 'Merwin', 295, 13, 12], [23, 'Nitin Shane', 1124, 12, 11], [19, 'Ayisha', 3406, 11, 8], [18, 'imshawan', 71, 9, 9], [16, 'sharath', 3367, 8, 8], [14, 'devmenkr', 360, 7, 7], [14, 'Saurabh', 271, 6, 8], [14, 'Anuraj_Saini', 342, 7, 7], [13, 'Palash', 69, 6, 7], [10, 'raman', 539, 5, 5], [9, '__riddhi_213_', 504, 2, 7], [9, 'Nishant', 299, 4, 5], [6, 'darshimalde', 3169, 3, 3], [6, 'Rohit Dutta', 266, 3, 3], [6, 'Amrit Malviya', 336, 2, 4], [4, 'fardinkamal62', 263, 2, 2], [4, 'Vatsal', 3408, 2, 2], [4, 'Shagun', 100, 2, 2]]\n"
     ]
    }
   ],
   "source": [
    "print(sum_of_statement_and_reason)"
   ]
  },
  {
   "cell_type": "code",
   "execution_count": 151,
   "id": "c8e2abe5",
   "metadata": {},
   "outputs": [],
   "source": [
    "rank = 0\n",
    "for i in sum_of_statement_and_reason:\n",
    "    rank+=1\n",
    "    list_to_append2 = [i[1], rank, i[2], i[3],i[4]]\n",
    "    listoutput2.append(list_to_append2)"
   ]
  },
  {
   "cell_type": "code",
   "execution_count": 152,
   "id": "31bab9f1",
   "metadata": {},
   "outputs": [
    {
     "name": "stdout",
     "output_type": "stream",
     "text": [
      "[['Name', 'Rank', 'UID', 'No. of statements', 'No. of reasons'], ['Ronak 0', 1, 302, 16, 19], ['Soumita M', 2, 280, 13, 21], ['Subhangi 0', 3, 75, 13, 16], ['Merwin', 4, 295, 13, 12], ['Nitin Shane', 5, 1124, 12, 11], ['Ayisha', 6, 3406, 11, 8], ['imshawan', 7, 71, 9, 9], ['sharath', 8, 3367, 8, 8], ['devmenkr', 9, 360, 7, 7], ['Saurabh', 10, 271, 6, 8], ['Anuraj_Saini', 11, 342, 7, 7], ['Palash', 12, 69, 6, 7], ['raman', 13, 539, 5, 5], ['__riddhi_213_', 14, 504, 2, 7], ['Nishant', 15, 299, 4, 5], ['darshimalde', 16, 3169, 3, 3], ['Rohit Dutta', 17, 266, 3, 3], ['Amrit Malviya', 18, 336, 2, 4], ['fardinkamal62', 19, 263, 2, 2], ['Vatsal', 20, 3408, 2, 2], ['Shagun', 21, 100, 2, 2]]\n"
     ]
    }
   ],
   "source": [
    "print(listoutput2)"
   ]
  },
  {
   "cell_type": "code",
   "execution_count": 153,
   "id": "b0455375",
   "metadata": {},
   "outputs": [],
   "source": [
    "DataFrame2 = pd.DataFrame(listoutput2)"
   ]
  },
  {
   "cell_type": "code",
   "execution_count": 154,
   "id": "7a71d64f",
   "metadata": {},
   "outputs": [
    {
     "name": "stdout",
     "output_type": "stream",
     "text": [
      "                0     1     2                  3               4\n",
      "0            Name  Rank   UID  No. of statements  No. of reasons\n",
      "1         Ronak 0     1   302                 16              19\n",
      "2       Soumita M     2   280                 13              21\n",
      "3      Subhangi 0     3    75                 13              16\n",
      "4          Merwin     4   295                 13              12\n",
      "5     Nitin Shane     5  1124                 12              11\n",
      "6          Ayisha     6  3406                 11               8\n",
      "7        imshawan     7    71                  9               9\n",
      "8         sharath     8  3367                  8               8\n",
      "9        devmenkr     9   360                  7               7\n",
      "10        Saurabh    10   271                  6               8\n",
      "11   Anuraj_Saini    11   342                  7               7\n",
      "12         Palash    12    69                  6               7\n",
      "13          raman    13   539                  5               5\n",
      "14  __riddhi_213_    14   504                  2               7\n",
      "15        Nishant    15   299                  4               5\n",
      "16    darshimalde    16  3169                  3               3\n",
      "17    Rohit Dutta    17   266                  3               3\n",
      "18  Amrit Malviya    18   336                  2               4\n",
      "19  fardinkamal62    19   263                  2               2\n",
      "20         Vatsal    20  3408                  2               2\n",
      "21         Shagun    21   100                  2               2\n"
     ]
    }
   ],
   "source": [
    "print(DataFrame2)"
   ]
  },
  {
   "cell_type": "code",
   "execution_count": 155,
   "id": "e97c5a58",
   "metadata": {},
   "outputs": [
    {
     "name": "stdout",
     "output_type": "stream",
     "text": [
      "            0                             1                   2  \\\n",
      "0   Team Rank  Thinking Teams Leaderboard\\t  Average Statements   \n",
      "1           1           winning culture lab           12.666667   \n",
      "2           2                      tech lab                 9.0   \n",
      "3           3                        mentor            7.333333   \n",
      "4           4                   sup eco app                 7.0   \n",
      "5           5                           nan                 7.0   \n",
      "6           6           student unicorn lab            7.333333   \n",
      "7           7                     growpital                 5.0   \n",
      "8           8                 brandtech lab                 4.5   \n",
      "9           9                       kringle                 4.5   \n",
      "10         10             human capital lab                 2.0   \n",
      "\n",
      "                  3  \n",
      "0   Average Reasons  \n",
      "1              16.0  \n",
      "2              10.0  \n",
      "3          7.666667  \n",
      "4               7.0  \n",
      "5               7.0  \n",
      "6          6.333333  \n",
      "7          5.666667  \n",
      "8               5.5  \n",
      "9               4.5  \n",
      "10              4.5  \n"
     ]
    }
   ],
   "source": [
    "print(newDataFrame)"
   ]
  },
  {
   "cell_type": "code",
   "execution_count": 157,
   "id": "18bb6b1c",
   "metadata": {},
   "outputs": [
    {
     "name": "stdout",
     "output_type": "stream",
     "text": [
      "DataFrame is written to Excel File successfully.\n",
      "DataFrame is written to Excel File successfully.\n"
     ]
    }
   ],
   "source": [
    "file_name = 'Output1.xlsx'\n",
    "newDataFrame.to_excel(file_name)\n",
    "print('DataFrame is written to Excel File successfully.')\n",
    "file_name = 'Output2.xlsx'\n",
    "DataFrame2.to_excel(file_name)\n",
    "print('DataFrame is written to Excel File successfully.')"
   ]
  },
  {
   "cell_type": "code",
   "execution_count": null,
   "id": "aed4c54c",
   "metadata": {},
   "outputs": [],
   "source": []
  }
 ],
 "metadata": {
  "kernelspec": {
   "display_name": "Python 3",
   "language": "python",
   "name": "python3"
  },
  "language_info": {
   "codemirror_mode": {
    "name": "ipython",
    "version": 3
   },
   "file_extension": ".py",
   "mimetype": "text/x-python",
   "name": "python",
   "nbconvert_exporter": "python",
   "pygments_lexer": "ipython3",
   "version": "3.8.8"
  }
 },
 "nbformat": 4,
 "nbformat_minor": 5
}
